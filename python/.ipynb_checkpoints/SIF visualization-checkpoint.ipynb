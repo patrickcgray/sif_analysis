{
 "cells": [
  {
   "cell_type": "markdown",
   "metadata": {},
   "source": [
    "# How to read in, visualize and analyze SIF data\n",
    "Please see http://geo.holoviews.org/user_guide/Gridded_Datasets_I.html for background. A proper python installation is needed and some tools will need to be installed. "
   ]
  },
  {
   "cell_type": "code",
   "execution_count": 3,
   "metadata": {},
   "outputs": [
    {
     "name": "stdout",
     "output_type": "stream",
     "text": [
      "Collecting geoviews\n",
      "\u001b[?25l  Downloading https://files.pythonhosted.org/packages/3d/4d/a0fb8e68e75f6bbdaa8a4804a0ab2176680c70d27168bcf832a10f349263/geoviews-1.6.3-py2.py3-none-any.whl (427kB)\n",
      "\u001b[K     |████████████████████████████████| 430kB 2.4MB/s eta 0:00:01\n",
      "\u001b[?25hCollecting bokeh>=1.0.0 (from geoviews)\n",
      "\u001b[?25l  Downloading https://files.pythonhosted.org/packages/89/25/a07183dd96ca22dafe429254985cbf8241ccd35730c5568d6502b3bc6bb7/bokeh-1.3.4.tar.gz (17.8MB)\n",
      "\u001b[K     |████████████████████████████████| 17.8MB 7.2MB/s eta 0:00:01    |███▏                            | 1.8MB 6.7MB/s eta 0:00:03\n",
      "\u001b[?25hRequirement already satisfied: holoviews>=1.11.1 in /usr/local/lib/python3.5/dist-packages (from geoviews) (1.12.5)\n",
      "Requirement already satisfied: param>=1.6.1 in /usr/local/lib/python3.5/dist-packages (from geoviews) (1.9.1)\n",
      "Requirement already satisfied: numpy>=1.0 in /usr/local/lib/python3.5/dist-packages (from geoviews) (1.16.1)\n",
      "Collecting cartopy>=0.16.0 (from geoviews)\n",
      "\u001b[?25l  Downloading https://files.pythonhosted.org/packages/e5/92/fe8838fa8158931906dfc4f16c5c1436b3dd2daf83592645b179581403ad/Cartopy-0.17.0.tar.gz (8.9MB)\n",
      "\u001b[K     |████████████████████████████████| 8.9MB 7.2MB/s eta 0:00:01\n",
      "\u001b[?25h  Installing build dependencies ... \u001b[?25ldone\n",
      "\u001b[?25h  Getting requirements to build wheel ... \u001b[?25lerror\n",
      "\u001b[31m  ERROR: Command errored out with exit status 1:\n",
      "   command: /usr/bin/python3 /usr/local/lib/python3.5/dist-packages/pip/_vendor/pep517/_in_process.py get_requires_for_build_wheel /tmp/tmp727cl633\n",
      "       cwd: /tmp/pip-install-rqdo8r0k/cartopy\n",
      "  Complete output (3 lines):\n",
      "  setup.py:171: UserWarning: Unable to determine GEOS version. Ensure you have 3.3.3 or later installed, or installation may fail.\n",
      "    '.'.join(str(v) for v in GEOS_MIN_VERSION), ))\n",
      "  Proj 4.9.0 must be installed.\n",
      "  ----------------------------------------\u001b[0m\n",
      "\u001b[31mERROR: Command errored out with exit status 1: /usr/bin/python3 /usr/local/lib/python3.5/dist-packages/pip/_vendor/pep517/_in_process.py get_requires_for_build_wheel /tmp/tmp727cl633 Check the logs for full command output.\u001b[0m\n",
      "\u001b[?25h"
     ]
    }
   ],
   "source": [
    "! pip install geoviews"
   ]
  },
  {
   "cell_type": "code",
   "execution_count": 1,
   "metadata": {},
   "outputs": [
    {
     "ename": "ImportError",
     "evalue": "No module named 'holoviews'",
     "output_type": "error",
     "traceback": [
      "\u001b[0;31m---------------------------------------------------------------------------\u001b[0m",
      "\u001b[0;31mImportError\u001b[0m                               Traceback (most recent call last)",
      "\u001b[0;32m<ipython-input-1-4b698313f512>\u001b[0m in \u001b[0;36m<module>\u001b[0;34m\u001b[0m\n\u001b[1;32m     10\u001b[0m \u001b[0;31m# specific for the tools here\u001b[0m\u001b[0;34m\u001b[0m\u001b[0;34m\u001b[0m\u001b[0m\n\u001b[1;32m     11\u001b[0m \u001b[0;31m# http://geo.holoviews.org/index.html\u001b[0m\u001b[0;34m\u001b[0m\u001b[0;34m\u001b[0m\u001b[0m\n\u001b[0;32m---> 12\u001b[0;31m \u001b[0;32mimport\u001b[0m \u001b[0mholoviews\u001b[0m \u001b[0;32mas\u001b[0m \u001b[0mhv\u001b[0m\u001b[0;34m\u001b[0m\u001b[0m\n\u001b[0m\u001b[1;32m     13\u001b[0m \u001b[0;32mimport\u001b[0m \u001b[0mgeoviews\u001b[0m \u001b[0;32mas\u001b[0m \u001b[0mgv\u001b[0m\u001b[0;34m\u001b[0m\u001b[0m\n\u001b[1;32m     14\u001b[0m \u001b[0;32mimport\u001b[0m \u001b[0mgeoviews\u001b[0m\u001b[0;34m.\u001b[0m\u001b[0mfeature\u001b[0m \u001b[0;32mas\u001b[0m \u001b[0mgf\u001b[0m\u001b[0;34m\u001b[0m\u001b[0m\n",
      "\u001b[0;31mImportError\u001b[0m: No module named 'holoviews'"
     ]
    }
   ],
   "source": [
    "# https://scitools.org.uk/iris/docs/latest/index.html (data vis tool)\n",
    "#import iris \n",
    "# Make sure plots are create inline\n",
    "%matplotlib inline\n",
    "import matplotlib.pyplot as plt\n",
    "# numpy \n",
    "import numpy as np\n",
    "# xarray (very handy)\n",
    "import xarray as xr\n",
    "# specific for the tools here \n",
    "# http://geo.holoviews.org/index.html\n",
    "import holoviews as hv\n",
    "import geoviews as gv\n",
    "import geoviews.feature as gf\n",
    "from cartopy import crs as crrs\n",
    "import warnings\n",
    "gv.extension('bokeh')"
   ]
  },
  {
   "cell_type": "markdown",
   "metadata": {},
   "source": [
    "NetCDF MF datasets can be very powerful as you can use wildcards to access multiple files at once and your code interprets them as \"one file\", concatenated in the time dimension. NetCDF4 tools can do this and so can xarrays in python with the open_mfdataset command. TROPOMI SIF files are constructed in a way tha these tools can actually be used."
   ]
  },
  {
   "cell_type": "code",
   "execution_count": 3,
   "metadata": {},
   "outputs": [
    {
     "data": {
      "text/plain": [
       "<xarray.Dataset>\n",
       "Dimensions:     (lat: 900, lon: 1800, time: 122)\n",
       "Coordinates:\n",
       "  * lon         (lon) float64 -179.9 -179.7 -179.5 -179.3 -179.1 -178.9 ...\n",
       "  * lat         (lat) float64 -89.9 -89.7 -89.5 -89.3 -89.1 -88.9 -88.7 ...\n",
       "  * time        (time) datetime64[ns] 2018-04-01 2018-04-02 2018-04-03 ...\n",
       "Data variables:\n",
       "    SIF         (time, lat, lon) float32 dask.array<shape=(122, 900, 1800), chunksize=(30, 900, 1800)>\n",
       "    dcSIF       (time, lat, lon) float32 dask.array<shape=(122, 900, 1800), chunksize=(30, 900, 1800)>\n",
       "    relSIF      (time, lat, lon) float32 dask.array<shape=(122, 900, 1800), chunksize=(30, 900, 1800)>\n",
       "    SIF_err     (time, lat, lon) float32 dask.array<shape=(122, 900, 1800), chunksize=(30, 900, 1800)>\n",
       "    dcSIF_err   (time, lat, lon) float32 dask.array<shape=(122, 900, 1800), chunksize=(30, 900, 1800)>\n",
       "    relSIF_err  (time, lat, lon) float32 dask.array<shape=(122, 900, 1800), chunksize=(30, 900, 1800)>\n",
       "    cont        (time, lat, lon) float32 dask.array<shape=(122, 900, 1800), chunksize=(30, 900, 1800)>\n",
       "    n_meas      (time, lat, lon) float64 dask.array<shape=(122, 900, 1800), chunksize=(30, 900, 1800)>"
      ]
     },
     "execution_count": 3,
     "metadata": {},
     "output_type": "execute_result"
    }
   ],
   "source": [
    "# READ in all TROPOMI gridded SIF data \n",
    "xr_tropomi = xr.open_mfdataset('/Volumes/data1/ftp/data/tropomi/gridded/TROPO_SIF_0[4567]*.nc')\n",
    "xr_tropomi"
   ]
  },
  {
   "cell_type": "code",
   "execution_count": 63,
   "metadata": {},
   "outputs": [],
   "source": [
    "# Define dataset \"key\" dimension:\n",
    "kdims = ['time', 'lon', 'lat']\n",
    "# define target \"value\" dimension:\n",
    "vdims = hv.Dimension('dcSIF', range=(0, 2))"
   ]
  },
  {
   "cell_type": "code",
   "execution_count": 52,
   "metadata": {},
   "outputs": [],
   "source": [
    "hv.Dimension.type_formatters[np.datetime64] = '%Y-%m-%d'\n",
    "sif = xr_tropomi.dcSIF"
   ]
  },
  {
   "cell_type": "code",
   "execution_count": 12,
   "metadata": {},
   "outputs": [
    {
     "data": {
      "image/png": "[encoded data removed]",
      "text/plain": [
       "<Figure size 432x288 with 1 Axes>"
      ]
     },
     "metadata": {},
     "output_type": "display_data"
    }
   ],
   "source": [
    "tLat = 42\n",
    "tLon = -94\n",
    "iLat = np.argmin(np.abs(35-xr_tropomi.lat))\n",
    "iLon = np.argmin(np.abs(-90-xr_tropomi.lon))\n",
    "sif_1d = sif[:,iLat,iLon]\n",
    "plt.plot_date(xr_tropomi.time, sif_1d,'-')\n",
    "plt.gcf().autofmt_xdate()"
   ]
  },
  {
   "cell_type": "code",
   "execution_count": 68,
   "metadata": {},
   "outputs": [
    {
     "data": {
      "text/plain": [
       "<xarray.Dataset>\n",
       "Dimensions:     (lat: 900, lon: 1800, time: 19)\n",
       "Coordinates:\n",
       "  * time        (time) datetime64[ns] 2018-04-01 2018-04-08 2018-04-15 ...\n",
       "  * lon         (lon) float64 -179.9 -179.7 -179.5 -179.3 -179.1 -178.9 ...\n",
       "  * lat         (lat) float64 -89.9 -89.7 -89.5 -89.3 -89.1 -88.9 -88.7 ...\n",
       "Data variables:\n",
       "    SIF         (time, lat, lon) float32 dask.array<shape=(19, 900, 1800), chunksize=(1, 900, 1800)>\n",
       "    dcSIF       (time, lat, lon) float32 dask.array<shape=(19, 900, 1800), chunksize=(1, 900, 1800)>\n",
       "    relSIF      (time, lat, lon) float32 dask.array<shape=(19, 900, 1800), chunksize=(1, 900, 1800)>\n",
       "    SIF_err     (time, lat, lon) float32 dask.array<shape=(19, 900, 1800), chunksize=(1, 900, 1800)>\n",
       "    dcSIF_err   (time, lat, lon) float32 dask.array<shape=(19, 900, 1800), chunksize=(1, 900, 1800)>\n",
       "    relSIF_err  (time, lat, lon) float32 dask.array<shape=(19, 900, 1800), chunksize=(1, 900, 1800)>\n",
       "    cont        (time, lat, lon) float32 dask.array<shape=(19, 900, 1800), chunksize=(1, 900, 1800)>\n",
       "    n_meas      (time, lat, lon) float64 dask.array<shape=(19, 900, 1800), chunksize=(1, 900, 1800)>"
      ]
     },
     "execution_count": 68,
     "metadata": {},
     "output_type": "execute_result"
    }
   ],
   "source": [
    "# Resample dataset to weekly:\n",
    "xr_dataset_weekly = xr_tropomi.resample(time=\"W\").mean('time')\n",
    "xr_dataset_weekly"
   ]
  },
  {
   "cell_type": "code",
   "execution_count": 69,
   "metadata": {},
   "outputs": [],
   "source": [
    "# Create a dataset with geoviews\n",
    "xr_dataset = gv.Dataset(xr_dataset_weekly, kdims=kdims, vdims=vdims, crs=crrs.Robinson())\n",
    "\n",
    "#.options(cmap='viridis', colorbar=True, fig_size=200)"
   ]
  },
  {
   "cell_type": "code",
   "execution_count": null,
   "metadata": {},
   "outputs": [
    {
     "name": "stderr",
     "output_type": "stream",
     "text": [
      "/Users/cfranken/anaconda/envs/py36/lib/python3.6/site-packages/dask/array/numpy_compat.py:28: RuntimeWarning: divide by zero encountered in true_divide\n",
      "  x = np.divide(x1, x2, out)\n",
      "/Users/cfranken/anaconda/envs/py36/lib/python3.6/site-packages/dask/array/numpy_compat.py:28: RuntimeWarning: invalid value encountered in true_divide\n",
      "  x = np.divide(x1, x2, out)\n",
      "/Users/cfranken/anaconda/envs/py36/lib/python3.6/site-packages/dask/array/numpy_compat.py:28: RuntimeWarning: divide by zero encountered in true_divide\n",
      "  x = np.divide(x1, x2, out)\n",
      "/Users/cfranken/anaconda/envs/py36/lib/python3.6/site-packages/dask/array/numpy_compat.py:28: RuntimeWarning: invalid value encountered in true_divide\n",
      "  x = np.divide(x1, x2, out)\n",
      "/Users/cfranken/anaconda/envs/py36/lib/python3.6/site-packages/dask/array/numpy_compat.py:28: RuntimeWarning: divide by zero encountered in true_divide\n",
      "  x = np.divide(x1, x2, out)\n",
      "/Users/cfranken/anaconda/envs/py36/lib/python3.6/site-packages/dask/array/numpy_compat.py:28: RuntimeWarning: invalid value encountered in true_divide\n",
      "  x = np.divide(x1, x2, out)\n",
      "/Users/cfranken/anaconda/envs/py36/lib/python3.6/site-packages/dask/array/numpy_compat.py:28: RuntimeWarning: divide by zero encountered in true_divide\n",
      "  x = np.divide(x1, x2, out)\n",
      "/Users/cfranken/anaconda/envs/py36/lib/python3.6/site-packages/dask/array/numpy_compat.py:28: RuntimeWarning: invalid value encountered in true_divide\n",
      "  x = np.divide(x1, x2, out)\n",
      "/Users/cfranken/anaconda/envs/py36/lib/python3.6/site-packages/dask/array/numpy_compat.py:28: RuntimeWarning: divide by zero encountered in true_divide\n",
      "  x = np.divide(x1, x2, out)\n",
      "/Users/cfranken/anaconda/envs/py36/lib/python3.6/site-packages/dask/array/numpy_compat.py:28: RuntimeWarning: invalid value encountered in true_divide\n",
      "  x = np.divide(x1, x2, out)\n",
      "/Users/cfranken/anaconda/envs/py36/lib/python3.6/site-packages/dask/array/numpy_compat.py:28: RuntimeWarning: divide by zero encountered in true_divide\n",
      "  x = np.divide(x1, x2, out)\n",
      "/Users/cfranken/anaconda/envs/py36/lib/python3.6/site-packages/dask/array/numpy_compat.py:28: RuntimeWarning: invalid value encountered in true_divide\n",
      "  x = np.divide(x1, x2, out)\n",
      "/Users/cfranken/anaconda/envs/py36/lib/python3.6/site-packages/dask/array/numpy_compat.py:28: RuntimeWarning: divide by zero encountered in true_divide\n",
      "  x = np.divide(x1, x2, out)\n",
      "/Users/cfranken/anaconda/envs/py36/lib/python3.6/site-packages/dask/array/numpy_compat.py:28: RuntimeWarning: invalid value encountered in true_divide\n",
      "  x = np.divide(x1, x2, out)\n",
      "/Users/cfranken/anaconda/envs/py36/lib/python3.6/site-packages/dask/array/numpy_compat.py:28: RuntimeWarning: divide by zero encountered in true_divide\n",
      "  x = np.divide(x1, x2, out)\n",
      "/Users/cfranken/anaconda/envs/py36/lib/python3.6/site-packages/dask/array/numpy_compat.py:28: RuntimeWarning: invalid value encountered in true_divide\n",
      "  x = np.divide(x1, x2, out)\n",
      "/Users/cfranken/anaconda/envs/py36/lib/python3.6/site-packages/dask/array/numpy_compat.py:28: RuntimeWarning: divide by zero encountered in true_divide\n",
      "  x = np.divide(x1, x2, out)\n",
      "/Users/cfranken/anaconda/envs/py36/lib/python3.6/site-packages/dask/array/numpy_compat.py:28: RuntimeWarning: invalid value encountered in true_divide\n",
      "  x = np.divide(x1, x2, out)\n",
      "/Users/cfranken/anaconda/envs/py36/lib/python3.6/site-packages/dask/array/numpy_compat.py:28: RuntimeWarning: divide by zero encountered in true_divide\n",
      "  x = np.divide(x1, x2, out)\n",
      "/Users/cfranken/anaconda/envs/py36/lib/python3.6/site-packages/dask/array/numpy_compat.py:28: RuntimeWarning: invalid value encountered in true_divide\n",
      "  x = np.divide(x1, x2, out)\n",
      "/Users/cfranken/anaconda/envs/py36/lib/python3.6/site-packages/dask/array/numpy_compat.py:28: RuntimeWarning: divide by zero encountered in true_divide\n",
      "  x = np.divide(x1, x2, out)\n",
      "/Users/cfranken/anaconda/envs/py36/lib/python3.6/site-packages/dask/array/numpy_compat.py:28: RuntimeWarning: invalid value encountered in true_divide\n",
      "  x = np.divide(x1, x2, out)\n",
      "/Users/cfranken/anaconda/envs/py36/lib/python3.6/site-packages/dask/array/numpy_compat.py:28: RuntimeWarning: divide by zero encountered in true_divide\n",
      "  x = np.divide(x1, x2, out)\n",
      "/Users/cfranken/anaconda/envs/py36/lib/python3.6/site-packages/dask/array/numpy_compat.py:28: RuntimeWarning: invalid value encountered in true_divide\n",
      "  x = np.divide(x1, x2, out)\n",
      "/Users/cfranken/anaconda/envs/py36/lib/python3.6/site-packages/dask/array/numpy_compat.py:28: RuntimeWarning: divide by zero encountered in true_divide\n",
      "  x = np.divide(x1, x2, out)\n",
      "/Users/cfranken/anaconda/envs/py36/lib/python3.6/site-packages/dask/array/numpy_compat.py:28: RuntimeWarning: invalid value encountered in true_divide\n",
      "  x = np.divide(x1, x2, out)\n",
      "/Users/cfranken/anaconda/envs/py36/lib/python3.6/site-packages/dask/array/numpy_compat.py:28: RuntimeWarning: divide by zero encountered in true_divide\n",
      "  x = np.divide(x1, x2, out)\n",
      "/Users/cfranken/anaconda/envs/py36/lib/python3.6/site-packages/dask/array/numpy_compat.py:28: RuntimeWarning: invalid value encountered in true_divide\n",
      "  x = np.divide(x1, x2, out)\n",
      "/Users/cfranken/anaconda/envs/py36/lib/python3.6/site-packages/dask/array/numpy_compat.py:28: RuntimeWarning: divide by zero encountered in true_divide\n",
      "  x = np.divide(x1, x2, out)\n",
      "/Users/cfranken/anaconda/envs/py36/lib/python3.6/site-packages/dask/array/numpy_compat.py:28: RuntimeWarning: invalid value encountered in true_divide\n",
      "  x = np.divide(x1, x2, out)\n",
      "/Users/cfranken/anaconda/envs/py36/lib/python3.6/site-packages/dask/array/numpy_compat.py:28: RuntimeWarning: divide by zero encountered in true_divide\n",
      "  x = np.divide(x1, x2, out)\n",
      "/Users/cfranken/anaconda/envs/py36/lib/python3.6/site-packages/dask/array/numpy_compat.py:28: RuntimeWarning: invalid value encountered in true_divide\n",
      "  x = np.divide(x1, x2, out)\n",
      "/Users/cfranken/anaconda/envs/py36/lib/python3.6/site-packages/dask/array/numpy_compat.py:28: RuntimeWarning: divide by zero encountered in true_divide\n",
      "  x = np.divide(x1, x2, out)\n",
      "/Users/cfranken/anaconda/envs/py36/lib/python3.6/site-packages/dask/array/numpy_compat.py:28: RuntimeWarning: invalid value encountered in true_divide\n",
      "  x = np.divide(x1, x2, out)\n",
      "/Users/cfranken/anaconda/envs/py36/lib/python3.6/site-packages/dask/array/numpy_compat.py:28: RuntimeWarning: divide by zero encountered in true_divide\n",
      "  x = np.divide(x1, x2, out)\n",
      "/Users/cfranken/anaconda/envs/py36/lib/python3.6/site-packages/dask/array/numpy_compat.py:28: RuntimeWarning: invalid value encountered in true_divide\n",
      "  x = np.divide(x1, x2, out)\n",
      "/Users/cfranken/anaconda/envs/py36/lib/python3.6/site-packages/dask/array/numpy_compat.py:28: RuntimeWarning: divide by zero encountered in true_divide\n",
      "  x = np.divide(x1, x2, out)\n",
      "/Users/cfranken/anaconda/envs/py36/lib/python3.6/site-packages/dask/array/numpy_compat.py:28: RuntimeWarning: invalid value encountered in true_divide\n",
      "  x = np.divide(x1, x2, out)\n",
      "/Users/cfranken/anaconda/envs/py36/lib/python3.6/site-packages/dask/array/numpy_compat.py:28: RuntimeWarning: divide by zero encountered in true_divide\n",
      "  x = np.divide(x1, x2, out)\n",
      "/Users/cfranken/anaconda/envs/py36/lib/python3.6/site-packages/dask/array/numpy_compat.py:28: RuntimeWarning: invalid value encountered in true_divide\n",
      "  x = np.divide(x1, x2, out)\n",
      "/Users/cfranken/anaconda/envs/py36/lib/python3.6/site-packages/dask/array/numpy_compat.py:28: RuntimeWarning: divide by zero encountered in true_divide\n",
      "  x = np.divide(x1, x2, out)\n",
      "/Users/cfranken/anaconda/envs/py36/lib/python3.6/site-packages/dask/array/numpy_compat.py:28: RuntimeWarning: invalid value encountered in true_divide\n",
      "  x = np.divide(x1, x2, out)\n",
      "/Users/cfranken/anaconda/envs/py36/lib/python3.6/site-packages/dask/array/numpy_compat.py:28: RuntimeWarning: divide by zero encountered in true_divide\n",
      "  x = np.divide(x1, x2, out)\n",
      "/Users/cfranken/anaconda/envs/py36/lib/python3.6/site-packages/dask/array/numpy_compat.py:28: RuntimeWarning: invalid value encountered in true_divide\n",
      "  x = np.divide(x1, x2, out)\n"
     ]
    }
   ],
   "source": [
    "geo_dims = ['lon', 'lat']\n",
    "(xr_dataset.to(gv.Image, geo_dims).options(cmap='viridis',colorbar=True,height=300,width=600, projection=crrs.Robinson()) * gf.coastline)"
   ]
  },
  {
   "cell_type": "code",
   "execution_count": null,
   "metadata": {},
   "outputs": [],
   "source": []
  }
 ],
 "metadata": {
  "kernelspec": {
   "display_name": "Python 3",
   "language": "python",
   "name": "python3"
  },
  "language_info": {
   "codemirror_mode": {
    "name": "ipython",
    "version": 3
   },
   "file_extension": ".py",
   "mimetype": "text/x-python",
   "name": "python",
   "nbconvert_exporter": "python",
   "pygments_lexer": "ipython3",
   "version": "3.5.2"
  },
  "latex_envs": {
   "LaTeX_envs_menu_present": true,
   "autoclose": false,
   "autocomplete": true,
   "bibliofile": "biblio.bib",
   "cite_by": "apalike",
   "current_citInitial": 1,
   "eqLabelWithNumbers": true,
   "eqNumInitial": 1,
   "hotkeys": {
    "equation": "Ctrl-E",
    "itemize": "Ctrl-I"
   },
   "labels_anchors": false,
   "latex_user_defs": false,
   "report_style_numbering": false,
   "user_envs_cfg": false
  }
 },
 "nbformat": 4,
 "nbformat_minor": 2
}
